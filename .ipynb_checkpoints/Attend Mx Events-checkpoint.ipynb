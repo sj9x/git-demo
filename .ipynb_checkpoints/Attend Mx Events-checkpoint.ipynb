{
 "cells": [
  {
   "cell_type": "code",
   "execution_count": 41,
   "id": "c182fab3",
   "metadata": {},
   "outputs": [],
   "source": [
    "import heapq\n",
    "class Solution:\n",
    "    def maxEvents(self, events):\n",
    "        events.sort(key = lambda x: x[0])\n",
    "        ans = 0 \n",
    "        d = 1 \n",
    "        minheap = []\n",
    "        i = 0\n",
    "        while i< len(events) or minheap:\n",
    "            # If no eveents available today add to events list\n",
    "            if not minheap:\n",
    "                d = events[i][0]\n",
    "            ## Apppee nd to the heap all the events that start on that day\n",
    "            while i<len(events) and events[i][0] ==d:\n",
    "                heapq.heappush(minheap,events[i][1])\n",
    "                i = i+1 \n",
    "                \n",
    "            heapq.heappop(minheap)\n",
    "            \n",
    "            ans = ans+1\n",
    "            d = d+1\n",
    "            \n",
    "            while minheap and minheap[0]<d:\n",
    "                heapq.heappop(minheap)\n",
    "        \n",
    "        return ans    \n",
    "                                            \n",
    "                \n",
    "        "
   ]
  },
  {
   "cell_type": "code",
   "execution_count": 42,
   "id": "94a8b2d3",
   "metadata": {},
   "outputs": [
    {
     "name": "stdout",
     "output_type": "stream",
     "text": [
      "[] 1\n",
      "4 1\n",
      "[] 2\n",
      "3 2\n",
      "[4] 3\n",
      "4 3\n",
      "[4] 4\n",
      "4 4\n"
     ]
    },
    {
     "data": {
      "text/plain": [
       "4"
      ]
     },
     "execution_count": 42,
     "metadata": {},
     "output_type": "execute_result"
    }
   ],
   "source": [
    "events= [[1,4],[2,3],[3,4],[2,4]]\n",
    "s = Solution()\n",
    "s.maxEvents(events)"
   ]
  },
  {
   "cell_type": "code",
   "execution_count": 23,
   "id": "7f925389",
   "metadata": {},
   "outputs": [
    {
     "data": {
      "text/plain": [
       "range(3, -1)"
      ]
     },
     "execution_count": 23,
     "metadata": {},
     "output_type": "execute_result"
    }
   ],
   "source": [
    "range(len(events)-1,-1)"
   ]
  },
  {
   "cell_type": "code",
   "execution_count": null,
   "id": "43e80a08",
   "metadata": {},
   "outputs": [],
   "source": []
  }
 ],
 "metadata": {
  "kernelspec": {
   "display_name": "Python 3 (ipykernel)",
   "language": "python",
   "name": "python3"
  },
  "language_info": {
   "codemirror_mode": {
    "name": "ipython",
    "version": 3
   },
   "file_extension": ".py",
   "mimetype": "text/x-python",
   "name": "python",
   "nbconvert_exporter": "python",
   "pygments_lexer": "ipython3",
   "version": "3.9.13"
  }
 },
 "nbformat": 4,
 "nbformat_minor": 5
}
